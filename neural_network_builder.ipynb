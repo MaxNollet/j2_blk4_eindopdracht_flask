{
 "cells": [
  {
   "source": [
    "Neural network designer\n",
    "========================"
   ],
   "cell_type": "markdown",
   "metadata": {
    "collapsed": false
   }
  },
  {
   "cell_type": "code",
   "execution_count": null,
   "outputs": [],
   "source": [
    "# Extensies en dependencies laden\n",
    "%load_ext tensorboard\n",
    "\n",
    "import shutil\n",
    "import numpy as np\n",
    "from tensorflow.keras.preprocessing.text import Tokenizer\n",
    "from tensorflow.keras.models import Sequential\n",
    "from tensorflow.keras.layers import Dense, Activation\n",
    "from tensorflow.keras.optimizers import Adam\n",
    "from tensorflow.keras.metrics import categorical_crossentropy\n",
    "from tensorflow.keras.callbacks import TensorBoard"
   ],
   "metadata": {
    "collapsed": false,
    "pycharm": {
     "name": "#%%\n"
    }
   }
  },
  {
   "cell_type": "markdown",
   "source": [
    "Training dataset inlezen\n",
    "------------------------"
   ],
   "metadata": {
    "collapsed": false
   }
  },
  {
   "source": [
    "file = \"dataset.txt\"\n",
    "values = []\n",
    "labels = []\n",
    "\n",
    "with open(file, \"r\", encoding=\"UTF-8\") as file:\n",
    "    line = file.readline().strip()\n",
    "    while line == \"\" or not line.startswith(\"#\"):\n",
    "        file.readline()\n",
    "    header = line.replace(\"#\", \"\").split(\"\\t\")\n",
    "    col_values = header.index(\"Value\")\n",
    "    col_labels = header.index(\"Label\")\n",
    "    for line in file:\n",
    "        splitted_line = line.strip().split(\"\\t\")\n",
    "        values.append(str(splitted_line[col_values]))\n",
    "        labels.append(int(splitted_line[col_labels]))\n",
    "\n",
    "print(f\"Count of values: {len(values)}\")\n",
    "print(f\"Count of labels: {len(labels)}\")"
   ],
   "cell_type": "code",
   "metadata": {
    "collapsed": false,
    "pycharm": {
     "name": "#%%\n"
    }
   },
   "execution_count": null,
   "outputs": []
  },
  {
   "source": [
    "Pre-processing van dataset\n",
    "--------------------------"
   ],
   "cell_type": "markdown",
   "metadata": {}
  },
  {
   "cell_type": "code",
   "execution_count": null,
   "metadata": {},
   "outputs": [],
   "source": [
    "# Bibliotheek opbouwen van alle unieke karakters.\n",
    "tokenizer = Tokenizer(char_level=True, lower=False)\n",
    "tokenizer.fit_on_texts(values)\n",
    "\n",
    "print(f\"Unieke karakters: {sorted(tokenizer.word_counts.keys())}\", end=\"\\n\\n\")\n",
    "print(f\"Index: {tokenizer.word_index}\", end=\"\\n\\n\")\n",
    "print(f\"Aantal: {len(tokenizer.word_index)}\")"
   ]
  },
  {
   "cell_type": "code",
   "execution_count": null,
   "metadata": {},
   "outputs": [],
   "source": [
    "# Strings omzetten naar sequences.\n",
    "sequences = tokenizer.texts_to_sequences(values)\n",
    "\n",
    "for value, sequence in zip(values[:5], sequences[:5]):\n",
    "    print(f\"{value.ljust(12, ' ')}: {str(sequence)}\")"
   ]
  },
  {
   "cell_type": "code",
   "execution_count": null,
   "metadata": {},
   "outputs": [],
   "source": [
    "# Sequences omzetten naar een binaire matrix.\n",
    "values_binary_matrix = tokenizer.sequences_to_matrix(sequences, mode=\"binary\")\n",
    "\n",
    "print(values_binary_matrix[:3])\n",
    "print(f\"Vorm van matrix: {values_binary_matrix.shape}\")"
   ]
  },
  {
   "cell_type": "code",
   "execution_count": null,
   "metadata": {},
   "outputs": [],
   "source": [
    "# Labels naar een array omzetten.\n",
    "labels_array = np.array(labels)\n",
    "print(labels_array)"
   ]
  },
  {
   "source": [
    "Model opbouwen\n",
    "--------------"
   ],
   "cell_type": "markdown",
   "metadata": {}
  },
  {
   "cell_type": "code",
   "execution_count": null,
   "metadata": {},
   "outputs": [],
   "source": [
    "# Model opbouwen en een samenvatting geven.\n",
    "model = Sequential([\n",
    "    Dense(units=60, activation=\"relu\", input_shape=values_binary_matrix[0].shape),\n",
    "    Dense(units=50, activation=\"relu\"),\n",
    "    Dense(units=50, activation=\"relu\"),\n",
    "    Dense(units=40, activation=\"relu\"),\n",
    "    Dense(units=20, activation=\"relu\"),\n",
    "    Dense(units=2, activation=\"softmax\")\n",
    "])\n",
    "\n",
    "model.summary()"
   ]
  },
  {
   "cell_type": "code",
   "execution_count": null,
   "metadata": {},
   "outputs": [],
   "source": [
    "# Model compileren.\n",
    "model.compile(optimizer=Adam(learning_rate=0.00001),\n",
    "              loss=\"sparse_categorical_crossentropy\",\n",
    "              metrics=[\"accuracy\"])"
   ]
  },
  {
   "source": [
    "Model trainen\n",
    "-------------"
   ],
   "cell_type": "markdown",
   "metadata": {}
  },
  {
   "cell_type": "code",
   "execution_count": null,
   "metadata": {},
   "outputs": [],
   "source": [
    "# TensorBoard voorbereiden.\n",
    "log_dir = \"logs/fit/\"\n",
    "tensorboard_callback = TensorBoard(log_dir=log_dir, histogram_freq=1)"
   ]
  },
  {
   "cell_type": "code",
   "execution_count": null,
   "metadata": {},
   "outputs": [],
   "source": [
    "# Model trainen.\n",
    "model.fit(\n",
    "    x=values_binary_matrix,\n",
    "    y=labels_array,\n",
    "    validation_split=0.2,\n",
    "    shuffle=True,\n",
    "    batch_size=10,\n",
    "    epochs=5,\n",
    "    callbacks=[tensorboard_callback]\n",
    ")"
   ]
  },
  {
   "cell_type": "code",
   "execution_count": null,
   "metadata": {},
   "outputs": [],
   "source": [
    "# TensorBoard starten.\n",
    "%tensorboard --logdir logs/fit"
   ]
  },
  {
   "cell_type": "code",
   "execution_count": null,
   "metadata": {},
   "outputs": [],
   "source": [
    "test_value = (\"potverdriedubbeltjesnogantoe\",)\n",
    "\n",
    "test_sequence = tokenizer.texts_to_sequences(test_value)\n",
    "print(f\"Sequence: {test_sequence}\", end=\"\\n\\n\")\n",
    "\n",
    "test_matrix = tokenizer.sequences_to_matrix(test_sequence)\n",
    "print(f\"Matrix: {test_matrix}\")"
   ]
  },
  {
   "cell_type": "code",
   "execution_count": null,
   "metadata": {},
   "outputs": [],
   "source": [
    "model.predict(test_matrix)"
   ]
  },
  {
   "cell_type": "code",
   "execution_count": null,
   "metadata": {},
   "outputs": [],
   "source": []
  }
 ],
 "metadata": {
  "kernelspec": {
   "name": "pythonjvsc74a57bd0f6aa2b9f5ba1f8420e941b312725c59e8dca41a3f51556a6ceaac9b5421b6a14",
   "display_name": "Python 3.8.9 64-bit ('venv': venv)"
  },
  "language_info": {
   "codemirror_mode": {
    "name": "ipython",
    "version": 2
   },
   "file_extension": ".py",
   "mimetype": "text/x-python",
   "name": "python",
   "nbconvert_exporter": "python",
   "pygments_lexer": "ipython2",
   "version": "3.8.9"
  },
  "metadata": {
   "interpreter": {
    "hash": "f6aa2b9f5ba1f8420e941b312725c59e8dca41a3f51556a6ceaac9b5421b6a14"
   }
  }
 },
 "nbformat": 4,
 "nbformat_minor": 0
}